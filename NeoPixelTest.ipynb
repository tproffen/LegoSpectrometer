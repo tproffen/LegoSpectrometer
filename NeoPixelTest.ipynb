{
 "cells": [
  {
   "cell_type": "markdown",
   "id": "be7bd835",
   "metadata": {},
   "source": [
    "### NeoPixel Test\n",
    "\n",
    "More information at https://learn.adafruit.com/adafruit-seesaw-atsamd09-breakout/overview. Make sure to install the drivers first using\n",
    "\n",
    "```\n",
    "pip3 install adafruit-circuitpython-seesaw\n",
    "```"
   ]
  },
  {
   "cell_type": "code",
   "execution_count": 19,
   "id": "4db2dc42",
   "metadata": {},
   "outputs": [],
   "source": [
    "import time\n",
    "import board\n",
    "import busio\n",
    "from rainbowio import colorwheel\n",
    "from adafruit_seesaw import seesaw, neopixel\n",
    "\n",
    "i2c_bus = busio.I2C(board.SCL, board.SDA)\n",
    "ss = seesaw.Seesaw(i2c_bus)"
   ]
  },
  {
   "cell_type": "code",
   "execution_count": 28,
   "id": "5c7ce740",
   "metadata": {},
   "outputs": [],
   "source": [
    "NEOPIXEL_PIN = 9  # change to Pin NeoPixel is connected to (9, 10, 11, 14, 15, 24, or 25 )\n",
    "NEOPIXEL_NUM = 1  # no more than 60!\n",
    "\n",
    "pixels = neopixel.NeoPixel(ss, NEOPIXEL_PIN, NEOPIXEL_NUM)"
   ]
  },
  {
   "cell_type": "code",
   "execution_count": 29,
   "id": "c0390ee5",
   "metadata": {},
   "outputs": [],
   "source": [
    "pixels.brightness = 0.6\n",
    "pixels.fill((0,200,255)) # Note this is Red, Green, Blue from 0 to 255"
   ]
  },
  {
   "cell_type": "code",
   "execution_count": 30,
   "id": "6ee97b79",
   "metadata": {},
   "outputs": [],
   "source": [
    "pixels.fill((0,0,0)) # Off"
   ]
  },
  {
   "cell_type": "markdown",
   "id": "fb3b0f5b",
   "metadata": {},
   "source": [
    "### Widgets :)"
   ]
  },
  {
   "cell_type": "code",
   "execution_count": 31,
   "id": "33d58399",
   "metadata": {},
   "outputs": [],
   "source": [
    "import ipywidgets as widgets"
   ]
  },
  {
   "cell_type": "markdown",
   "id": "b40fa534",
   "metadata": {},
   "source": [
    "Routine to convery colors from #xxxxxx format to (r,g,b) format (from the internet 😎)"
   ]
  },
  {
   "cell_type": "code",
   "execution_count": 32,
   "id": "ca346a59",
   "metadata": {},
   "outputs": [],
   "source": [
    "def hex_to_rgb(value):\n",
    "    \n",
    "    value = value.lstrip('#')\n",
    "    lv = len(value)\n",
    "    return tuple(int(value[i:i + lv // 3], 16) for i in range(0, lv, lv // 3))"
   ]
  },
  {
   "cell_type": "markdown",
   "id": "40682584",
   "metadata": {},
   "source": [
    "Callback functions"
   ]
  },
  {
   "cell_type": "code",
   "execution_count": 33,
   "id": "c3a1ae93",
   "metadata": {},
   "outputs": [],
   "source": [
    "def updateLight(change):\n",
    "    color = hex_to_rgb(change['new'])\n",
    "    pixels.fill(color)\n",
    "    print ('Changed color to ', color)"
   ]
  },
  {
   "cell_type": "code",
   "execution_count": 34,
   "id": "34575e8b",
   "metadata": {},
   "outputs": [],
   "source": [
    "def updateBrightness(change):\n",
    "    brightness = change['new']\n",
    "    pixels.brightness = brightness\n",
    "    print ('Changed brightness to ', brightness)"
   ]
  },
  {
   "cell_type": "markdown",
   "id": "38504aa5",
   "metadata": {},
   "source": [
    "Making the widget."
   ]
  },
  {
   "cell_type": "code",
   "execution_count": 35,
   "id": "d949685d",
   "metadata": {},
   "outputs": [
    {
     "data": {
      "application/vnd.jupyter.widget-view+json": {
       "model_id": "0f3ca1c6d87e48f1bf893282df67e2f2",
       "version_major": 2,
       "version_minor": 0
      },
      "text/plain": [
       "VBox(children=(ColorPicker(value='#000000', description='Pick color'), FloatSlider(value=0.5, continuous_updat…"
      ]
     },
     "metadata": {},
     "output_type": "display_data"
    },
    {
     "name": "stdout",
     "output_type": "stream",
     "text": [
      "Changed color to  (162, 83, 83)\n",
      "Changed brightness to  0.0\n"
     ]
    }
   ],
   "source": [
    "# This is the color selector and callback\n",
    "colorWidget = widgets.ColorPicker(concise=False, \n",
    "                                  description='Pick color', \n",
    "                                  value='#000000', \n",
    "                                  disabled=False)\n",
    "colorWidget.observe(updateLight, 'value')\n",
    "\n",
    "# This is a brightness selector and callback\n",
    "brightWidget = widgets.FloatSlider(value=0.5,\n",
    "                                   min=0,\n",
    "                                   max=1.0,\n",
    "                                   step=0.1,\n",
    "                                   description='Brightness:',\n",
    "                                   disabled=False,\n",
    "                                   continuous_update=False,\n",
    "                                   orientation='horizontal',\n",
    "                                   readout=True,\n",
    "                                   readout_format='.1f')\n",
    "brightWidget.observe(updateBrightness, 'value')\n",
    "\n",
    "# This will show it - VBox stacks widgets vertically\n",
    "widgets.VBox([colorWidget, brightWidget])"
   ]
  },
  {
   "cell_type": "code",
   "execution_count": null,
   "id": "57cee45d",
   "metadata": {},
   "outputs": [],
   "source": []
  }
 ],
 "metadata": {
  "kernelspec": {
   "display_name": "Python 3",
   "language": "python",
   "name": "python3"
  },
  "language_info": {
   "codemirror_mode": {
    "name": "ipython",
    "version": 3
   },
   "file_extension": ".py",
   "mimetype": "text/x-python",
   "name": "python",
   "nbconvert_exporter": "python",
   "pygments_lexer": "ipython3",
   "version": "3.7.3"
  }
 },
 "nbformat": 4,
 "nbformat_minor": 5
}
